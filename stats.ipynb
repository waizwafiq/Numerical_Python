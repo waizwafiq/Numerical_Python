{
  "nbformat": 4,
  "nbformat_minor": 0,
  "metadata": {
    "colab": {
      "name": "stats.ipynb",
      "provenance": [],
      "collapsed_sections": [],
      "authorship_tag": "ABX9TyO+MMICoZDH9vaqk6BrLh4Q",
      "include_colab_link": true
    },
    "kernelspec": {
      "name": "python3",
      "display_name": "Python 3"
    }
  },
  "cells": [
    {
      "cell_type": "markdown",
      "metadata": {
        "id": "view-in-github",
        "colab_type": "text"
      },
      "source": [
        "<a href=\"https://colab.research.google.com/github/waizwafiq/Stats-with-Python/blob/master/stats.ipynb\" target=\"_parent\"><img src=\"https://colab.research.google.com/assets/colab-badge.svg\" alt=\"Open In Colab\"/></a>"
      ]
    },
    {
      "cell_type": "code",
      "metadata": {
        "id": "EIk-DgXnFiAb",
        "colab_type": "code",
        "colab": {}
      },
      "source": [
        "#arr = [int(i) for i in input(\"Insert Numbers (separated by space)\").split()]"
      ],
      "execution_count": 1,
      "outputs": []
    },
    {
      "cell_type": "code",
      "metadata": {
        "id": "-pDCIz4GPMGi",
        "colab_type": "code",
        "colab": {}
      },
      "source": [
        "import math\n",
        "import matplotlib.pyplot as plt\n",
        "from matplotlib import style"
      ],
      "execution_count": 2,
      "outputs": []
    },
    {
      "cell_type": "code",
      "metadata": {
        "id": "2JN9eZzfRTZ_",
        "colab_type": "code",
        "colab": {}
      },
      "source": [
        "def fact(n):\n",
        "  if (n > 0):\n",
        "    a = n * fact(n-1)\n",
        "    return a\n",
        "  elif (n == 0):\n",
        "    return 1\n",
        "  else:\n",
        "    print(\"Invalid Factorial Usage! (must be a positive integer)\")\n",
        "\n",
        "def P(n,r):\n",
        "  if(n >= 0 and r <= n):\n",
        "    return fact(n)/fact(n-r)\n",
        "  else:\n",
        "    print(\"Invalid usage of Permutations! (n>=0 && r>=n, where n,r: +int)\")\n",
        "\n",
        "def C(n,r):\n",
        "  if(n >= 0 and r <= n):\n",
        "    return fact(n)/(fact(n-r)*fact(r))\n",
        "  else:\n",
        "    print(\"Invalid usage of Combinations! (n>=0 && r>=n, where n,r: +int)\")\n"
      ],
      "execution_count": 3,
      "outputs": []
    },
    {
      "cell_type": "code",
      "metadata": {
        "id": "vj3lxAkIG5BA",
        "colab_type": "code",
        "colab": {}
      },
      "source": [
        "#Central Tendency of Ungrouped Data\n",
        "def mean(arr):\n",
        "  mean = 0\n",
        "  for i in arr:\n",
        "    mean = mean + i/len(arr) \n",
        "  return mean\n",
        "\n",
        "def median(arr):\n",
        "  if (len(arr)%2 == 0):\n",
        "    median = (arr[int((len(arr)-1)/2)] + arr[int((len(arr))/2)])/2\n",
        "  else:\n",
        "    median = arr[int((len(arr)-1)/2)]\n",
        "  return median\n",
        "\n",
        "def mode(arr):\n",
        "  import collections\n",
        "  data = collections.Counter(arr)\n",
        "  data_list = dict(data)\n",
        "  max_value = max(list(data.values()))\n",
        "  mode_val = [num for num, freq in data_list.items() if freq == max_value]\n",
        "  if len(mode_val) == len(arr):\n",
        "    print(\"No mode in the list!\")\n",
        "  else:\n",
        "    print(\"Mode: \" + ', '.join(map(str, mode_val)))"
      ],
      "execution_count": 4,
      "outputs": []
    },
    {
      "cell_type": "code",
      "metadata": {
        "id": "tHltQxynLqw8",
        "colab_type": "code",
        "colab": {}
      },
      "source": [
        "#Measures of Dispersion of Ungrouped Data\n",
        "arr = [0,0,5,5]\n",
        "import math\n",
        "\n",
        "def Pop_Var(arr):\n",
        "  var = 0\n",
        "  for i in arr:\n",
        "    var = var + (i-mean(arr))*(i-mean(arr))/len(arr)\n",
        "  return var\n",
        "\n",
        "def Samp_Var(arr):\n",
        "  var = 0\n",
        "  for i in arr:\n",
        "    var = var + (i-mean(arr))*(i-mean(arr))/(len(arr)-1)\n",
        "  return var\n",
        "\n",
        "def Pop_std(arr):\n",
        "  math.sqrt(Pop_Var(arr))\n",
        "\n",
        "def Samp_std(arr):\n",
        "  math.sqrt(Samp_Var(arr))"
      ],
      "execution_count": 5,
      "outputs": []
    },
    {
      "cell_type": "code",
      "metadata": {
        "id": "fbtfRtOjOqWS",
        "colab_type": "code",
        "colab": {}
      },
      "source": [
        "#Binomial Distribution X~B(n,p)\n",
        "\n",
        "class BinDist:\n",
        "  def prob(n,p,r):\n",
        "    if(p>=0 and p<=1):\n",
        "      prob = C(n,r)*math.pow(p,r)*math.pow(1-p,n-r)\n",
        "      print(\"P(X=%d)=%f\" %(r,prob), end=\", \")\n",
        "      return prob\n",
        "    else:\n",
        "      print(\"Error! p:=[0,1]\")\n",
        "\n",
        "  def mean(n,p):\n",
        "    mu = n*p\n",
        "    return mu\n",
        "\n",
        "  def var(n,p):\n",
        "    v = n*p*(1-p)\n",
        "    return v\n",
        "\n",
        "  def mode(n,p):\n",
        "    a = (n+1)*p\n",
        "\n",
        "    if (a == 0 or not (isinstance(a,int))):\n",
        "      mode = math.floor(a)\n",
        "      print(\"Mode: \",mode)\n",
        "    elif (isinstance(a,int)):\n",
        "      print(\"Mode: %i and %i\" %(a,a-1))\n",
        "    elif (a == (n+1)):\n",
        "      print(\"Mode: \",n)\n",
        "    else:\n",
        "      print(\"No mode.\")\n",
        "    \n",
        "  def vis(n,p):\n",
        "    print(\"X~B(%d,%.4f)\"%(n,p))\n",
        "\n",
        "    up_lim = 0\n",
        "    x = [int(i) for i in range(0,n+1)]\n",
        "    y = []\n",
        "    for r in range(0,n+1):\n",
        "      prob = BinDist.prob(n,p,r)\n",
        "      y.append(prob)\n",
        "      plt.plot((r,r),(0,prob), linewidth=3.5)\n",
        "    for i in y:\n",
        "      if(i>=up_lim):\n",
        "        up_lim = i*1.25\n",
        "    plt.title(\"Binomial Distribution\")\n",
        "    plt.xlim(-0.05,n)\n",
        "    plt.ylim(0, up_lim)\n",
        "    plt.grid()\n",
        "    plt.xlabel('r') \n",
        "    plt.ylabel('P(X=r)')\n",
        "    plt.style.use('dark_background')\n",
        "    plt.plot([x], [y], marker='o', markersize=5, color=\"red\")\n"
      ],
      "execution_count": 17,
      "outputs": []
    },
    {
      "cell_type": "code",
      "metadata": {
        "id": "0eozi1yChk-o",
        "colab_type": "code",
        "colab": {}
      },
      "source": [
        "#poisson distribution\n",
        "class PoDist:\n",
        "  def prob(mean,r):\n",
        "    P = (math.pow(mean,r)*math.pow(math.e,-mean))/fact(r)\n",
        "    print(\"P(X=%i) = %f\"%(r,P),end=\", \")\n",
        "    return P\n",
        "\n",
        "  def vis(mean):\n",
        "    x = [int(i) for i in range(0,int(mean*2))]\n",
        "    y = []\n",
        "    up_lim = 0\n",
        "    for r in range(0,int(mean*2)):\n",
        "      P=PoDist.prob(mean,r)\n",
        "      y.append(P)\n",
        "      plt.plot((r,r),(0,P),linewidth=3.5)\n",
        "    for i in y:\n",
        "      if(i>=up_lim):\n",
        "        up_lim = i*1.25\n",
        "    plt.title(\"Poisson Distribution\")\n",
        "    plt.xlim(0,int(mean*2-1))\n",
        "    plt.ylim(0, up_lim)\n",
        "    plt.grid()\n",
        "    plt.xlabel('r') \n",
        "    plt.ylabel('P(X=r)')\n",
        "    plt.style.use('dark_background')\n",
        "    plt.plot([x], [y], marker='o', markersize=5, color=\"red\")"
      ],
      "execution_count": 22,
      "outputs": []
    },
    {
      "cell_type": "code",
      "metadata": {
        "id": "Lhrj_8V9gw07",
        "colab_type": "code",
        "colab": {
          "base_uri": "https://localhost:8080/",
          "height": 332
        },
        "outputId": "bbe1f0f7-71be-42bb-c56c-e69b4adb9c1a"
      },
      "source": [
        "PoDist.vis(23.60232)"
      ],
      "execution_count": 45,
      "outputs": [
        {
          "output_type": "stream",
          "text": [
            "P(X=0) = 0.000000, P(X=1) = 0.000000, P(X=2) = 0.000000, P(X=3) = 0.000000, P(X=4) = 0.000001, P(X=5) = 0.000003, P(X=6) = 0.000013, P(X=7) = 0.000045, P(X=8) = 0.000134, P(X=9) = 0.000352, P(X=10) = 0.000831, P(X=11) = 0.001782, P(X=12) = 0.003506, P(X=13) = 0.006365, P(X=14) = 0.010730, P(X=15) = 0.016884, P(X=16) = 0.024906, P(X=17) = 0.034578, P(X=18) = 0.045340, P(X=19) = 0.056323, P(X=20) = 0.066468, P(X=21) = 0.074705, P(X=22) = 0.080146, P(X=23) = 0.082244, P(X=24) = 0.080882, P(X=25) = 0.076360, P(X=26) = 0.069318, P(X=27) = 0.060595, P(X=28) = 0.051078, P(X=29) = 0.041571, P(X=30) = 0.032706, P(X=31) = 0.024901, P(X=32) = 0.018366, P(X=33) = 0.013136, P(X=34) = 0.009119, P(X=35) = 0.006149, P(X=36) = 0.004032, P(X=37) = 0.002572, P(X=38) = 0.001597, P(X=39) = 0.000967, P(X=40) = 0.000570, P(X=41) = 0.000328, P(X=42) = 0.000185, P(X=43) = 0.000101, P(X=44) = 0.000054, P(X=45) = 0.000028, P(X=46) = 0.000015, "
          ],
          "name": "stdout"
        },
        {
          "output_type": "display_data",
          "data": {
            "image/png": "[encoded data removed]",
            "text/plain": [
              "<Figure size 432x288 with 1 Axes>"
            ]
          },
          "metadata": {
            "tags": []
          }
        }
      ]
    }
  ]
}