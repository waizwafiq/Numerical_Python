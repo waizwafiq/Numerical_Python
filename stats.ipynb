{
  "nbformat": 4,
  "nbformat_minor": 0,
  "metadata": {
    "colab": {
      "name": "stats.ipynb",
      "provenance": [],
      "collapsed_sections": [],
      "authorship_tag": "ABX9TyNwh6tc4lxIFuUIFKcgYLuA",
      "include_colab_link": true
    },
    "kernelspec": {
      "name": "python3",
      "display_name": "Python 3"
    }
  },
  "cells": [
    {
      "cell_type": "markdown",
      "metadata": {
        "id": "view-in-github",
        "colab_type": "text"
      },
      "source": [
        "<a href=\"https://colab.research.google.com/github/waizwafiq/Stats-with-Python/blob/master/stats.ipynb\" target=\"_parent\"><img src=\"https://colab.research.google.com/assets/colab-badge.svg\" alt=\"Open In Colab\"/></a>"
      ]
    },
    {
      "cell_type": "code",
      "metadata": {
        "id": "EIk-DgXnFiAb",
        "colab_type": "code",
        "colab": {}
      },
      "source": [
        "arr = [int(i) for i in input(\"Insert Numbers (separated by space)\").split()]"
      ],
      "execution_count": null,
      "outputs": []
    },
    {
      "cell_type": "code",
      "metadata": {
        "id": "2JN9eZzfRTZ_",
        "colab_type": "code",
        "colab": {}
      },
      "source": [
        "def fact(n):\n",
        "  if (n > 0):\n",
        "    a = n * fact(n-1)\n",
        "    return a\n",
        "  elif (n == 0):\n",
        "    return 1\n",
        "  else:\n",
        "    print(\"Invalid Factorial Usage! (must be a positive integer)\")\n",
        "\n",
        "def P(n,r):\n",
        "  if(n >= 0 and r <= n):\n",
        "    return fact(n)/fact(n-r)\n",
        "  else:\n",
        "    print(\"Invalid usage of Permutations! (n>=0 && r>=n, where n,r: +int)\")\n",
        "\n",
        "def C(n,r):\n",
        "  if(n >= 0 and r <= n):\n",
        "    return fact(n)/(fact(n-r)*fact(r))\n",
        "  else:\n",
        "    print(\"Invalid usage of Combinations! (n>=0 && r>=n, where n,r: +int)\")\n"
      ],
      "execution_count": 105,
      "outputs": []
    },
    {
      "cell_type": "code",
      "metadata": {
        "id": "vj3lxAkIG5BA",
        "colab_type": "code",
        "colab": {}
      },
      "source": [
        "#Central Tendency of Ungrouped Data\n",
        "def mean(arr):\n",
        "  mean = 0\n",
        "  for i in arr:\n",
        "    mean = mean + i/len(arr) \n",
        "  return mean\n",
        "\n",
        "def median(arr):\n",
        "  if len(arr)%2 == 0):\n",
        "    median = (arr[int((len(arr)-1)/2)] + arr[int((len(arr))/2)])/2\n",
        "  else:\n",
        "    median = arr[int((len(arr)-1)/2)]\n",
        "  return median\n",
        "\n",
        "def mode(arr):\n",
        "  import collections\n",
        "  data = collections.Counter(arr)\n",
        "  data_list = dict(data)\n",
        "  max_value = max(list(data.values()))\n",
        "  mode_val = [num for num, freq in data_list.items() if freq == max_value]\n",
        "  if len(mode_val) == len(arr):\n",
        "    print(\"No mode in the list!\")\n",
        "  else:\n",
        "    print(\"Mode: \" + ', '.join(map(str, mode_val)))"
      ],
      "execution_count": 55,
      "outputs": []
    },
    {
      "cell_type": "code",
      "metadata": {
        "id": "tHltQxynLqw8",
        "colab_type": "code",
        "colab": {}
      },
      "source": [
        "#Measures of Dispersion of Ungrouped Data\n",
        "arr = [0,0,5,5]\n",
        "import math\n",
        "\n",
        "def Pop_Var(arr):\n",
        "  var = 0\n",
        "  for i in arr:\n",
        "    var = var + (i-mean(arr))*(i-mean(arr))/len(arr)\n",
        "  return var\n",
        "\n",
        "def Samp_Var(arr):\n",
        "  var = 0\n",
        "  for i in arr:\n",
        "    var = var + (i-mean(arr))*(i-mean(arr))/(len(arr)-1)\n",
        "  return var\n",
        "\n",
        "def Pop_std(arr):\n",
        "  math.sqrt(Pop_Var(arr))\n",
        "\n",
        "def Samp_std(arr):\n",
        "  math.sqrt(Samp_Var(arr))"
      ],
      "execution_count": 67,
      "outputs": []
    },
    {
      "cell_type": "code",
      "metadata": {
        "id": "fbtfRtOjOqWS",
        "colab_type": "code",
        "colab": {}
      },
      "source": [
        "#Binomial Distribution X~B(n,p)\n",
        "import math\n",
        "\n",
        "def Bin_distr(n,p,r):\n",
        "  mean = n*p\n",
        "  var = mean*(1-p)\n",
        "  a = (n+1)*p\n",
        "  print(\"X~B(%d,%f)\"%(n,p))\n",
        "  if (a == 0 or not (isinstance(a,int))):\n",
        "    mode = math.floor(a)\n",
        "    print(\"Mode: \",mode)\n",
        "  elif (isinstance(a,int)):\n",
        "    print(\"Mode: %i and %i\" %(a,a-1))\n",
        "  elif (a == (n+1)):\n",
        "    print(\"Mode: \",n)\n",
        "  else:\n",
        "    print(\"No mode.\")\n",
        "  \n",
        "  print(\"Mean: %f \\nVariance: %f\" %(mean,var))\n",
        "  \n",
        "  prob = C(n,r)*math.pow(p,r)*math.pow(1-p,n-r)\n",
        "  print(\"\\nP(X=%d) = %f\" %(r,prob))\n",
        "\n",
        "Bin_distr(12,0.23,2)\n"
      ],
      "execution_count": null,
      "outputs": []
    }
  ]
}